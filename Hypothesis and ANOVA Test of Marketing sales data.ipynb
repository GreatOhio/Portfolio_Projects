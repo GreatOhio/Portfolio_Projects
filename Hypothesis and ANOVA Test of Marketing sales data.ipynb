{
 "cells": [
  {
   "cell_type": "markdown",
   "id": "918008cc",
   "metadata": {},
   "source": [
    "# Hypothesis Test of Marketing sales data"
   ]
  },
  {
   "cell_type": "code",
   "execution_count": 1,
   "id": "6bf04576",
   "metadata": {},
   "outputs": [],
   "source": [
    "import pandas as pd\n",
    "import matplotlib.pyplot as plt\n",
    "import seaborn as sns\n",
    "\n",
    "import statsmodels.api as sm\n",
    "from statsmodels.formula.api import ols\n",
    "from statsmodels.stats.multicomp import pairwise_tukeyhsd"
   ]
  },
  {
   "cell_type": "code",
   "execution_count": 2,
   "id": "6294d2f9",
   "metadata": {},
   "outputs": [],
   "source": [
    "df = pd.read_csv('marketing_sales_data.csv')"
   ]
  },
  {
   "cell_type": "code",
   "execution_count": 3,
   "id": "3cf56082",
   "metadata": {},
   "outputs": [
    {
     "data": {
      "text/html": [
       "<div>\n",
       "<style scoped>\n",
       "    .dataframe tbody tr th:only-of-type {\n",
       "        vertical-align: middle;\n",
       "    }\n",
       "\n",
       "    .dataframe tbody tr th {\n",
       "        vertical-align: top;\n",
       "    }\n",
       "\n",
       "    .dataframe thead th {\n",
       "        text-align: right;\n",
       "    }\n",
       "</style>\n",
       "<table border=\"1\" class=\"dataframe\">\n",
       "  <thead>\n",
       "    <tr style=\"text-align: right;\">\n",
       "      <th></th>\n",
       "      <th>TV</th>\n",
       "      <th>Radio</th>\n",
       "      <th>Social Media</th>\n",
       "      <th>Influencer</th>\n",
       "      <th>Sales</th>\n",
       "    </tr>\n",
       "  </thead>\n",
       "  <tbody>\n",
       "    <tr>\n",
       "      <th>0</th>\n",
       "      <td>Low</td>\n",
       "      <td>3.518070</td>\n",
       "      <td>2.293790</td>\n",
       "      <td>Micro</td>\n",
       "      <td>55.261284</td>\n",
       "    </tr>\n",
       "    <tr>\n",
       "      <th>1</th>\n",
       "      <td>Low</td>\n",
       "      <td>7.756876</td>\n",
       "      <td>2.572287</td>\n",
       "      <td>Mega</td>\n",
       "      <td>67.574904</td>\n",
       "    </tr>\n",
       "    <tr>\n",
       "      <th>2</th>\n",
       "      <td>High</td>\n",
       "      <td>20.348988</td>\n",
       "      <td>1.227180</td>\n",
       "      <td>Micro</td>\n",
       "      <td>272.250108</td>\n",
       "    </tr>\n",
       "    <tr>\n",
       "      <th>3</th>\n",
       "      <td>Medium</td>\n",
       "      <td>20.108487</td>\n",
       "      <td>2.728374</td>\n",
       "      <td>Mega</td>\n",
       "      <td>195.102176</td>\n",
       "    </tr>\n",
       "    <tr>\n",
       "      <th>4</th>\n",
       "      <td>High</td>\n",
       "      <td>31.653200</td>\n",
       "      <td>7.776978</td>\n",
       "      <td>Nano</td>\n",
       "      <td>273.960377</td>\n",
       "    </tr>\n",
       "    <tr>\n",
       "      <th>5</th>\n",
       "      <td>Low</td>\n",
       "      <td>5.561586</td>\n",
       "      <td>3.530209</td>\n",
       "      <td>Nano</td>\n",
       "      <td>39.992087</td>\n",
       "    </tr>\n",
       "    <tr>\n",
       "      <th>6</th>\n",
       "      <td>Medium</td>\n",
       "      <td>13.951808</td>\n",
       "      <td>4.477142</td>\n",
       "      <td>Micro</td>\n",
       "      <td>147.150178</td>\n",
       "    </tr>\n",
       "    <tr>\n",
       "      <th>7</th>\n",
       "      <td>Medium</td>\n",
       "      <td>28.352592</td>\n",
       "      <td>4.695376</td>\n",
       "      <td>Mega</td>\n",
       "      <td>229.141912</td>\n",
       "    </tr>\n",
       "    <tr>\n",
       "      <th>8</th>\n",
       "      <td>Medium</td>\n",
       "      <td>15.322175</td>\n",
       "      <td>4.379750</td>\n",
       "      <td>Macro</td>\n",
       "      <td>222.696768</td>\n",
       "    </tr>\n",
       "    <tr>\n",
       "      <th>9</th>\n",
       "      <td>High</td>\n",
       "      <td>26.914287</td>\n",
       "      <td>6.074165</td>\n",
       "      <td>Mega</td>\n",
       "      <td>322.466797</td>\n",
       "    </tr>\n",
       "  </tbody>\n",
       "</table>\n",
       "</div>"
      ],
      "text/plain": [
       "       TV      Radio  Social Media Influencer       Sales\n",
       "0     Low   3.518070      2.293790      Micro   55.261284\n",
       "1     Low   7.756876      2.572287       Mega   67.574904\n",
       "2    High  20.348988      1.227180      Micro  272.250108\n",
       "3  Medium  20.108487      2.728374       Mega  195.102176\n",
       "4    High  31.653200      7.776978       Nano  273.960377\n",
       "5     Low   5.561586      3.530209       Nano   39.992087\n",
       "6  Medium  13.951808      4.477142      Micro  147.150178\n",
       "7  Medium  28.352592      4.695376       Mega  229.141912\n",
       "8  Medium  15.322175      4.379750      Macro  222.696768\n",
       "9    High  26.914287      6.074165       Mega  322.466797"
      ]
     },
     "execution_count": 3,
     "metadata": {},
     "output_type": "execute_result"
    }
   ],
   "source": [
    "df.head(10)"
   ]
  },
  {
   "cell_type": "code",
   "execution_count": 7,
   "id": "efd849eb",
   "metadata": {},
   "outputs": [
    {
     "data": {
      "text/html": [
       "<div>\n",
       "<style scoped>\n",
       "    .dataframe tbody tr th:only-of-type {\n",
       "        vertical-align: middle;\n",
       "    }\n",
       "\n",
       "    .dataframe tbody tr th {\n",
       "        vertical-align: top;\n",
       "    }\n",
       "\n",
       "    .dataframe thead th {\n",
       "        text-align: right;\n",
       "    }\n",
       "</style>\n",
       "<table border=\"1\" class=\"dataframe\">\n",
       "  <thead>\n",
       "    <tr style=\"text-align: right;\">\n",
       "      <th></th>\n",
       "      <th>Radio</th>\n",
       "      <th>Social Media</th>\n",
       "      <th>Sales</th>\n",
       "    </tr>\n",
       "  </thead>\n",
       "  <tbody>\n",
       "    <tr>\n",
       "      <th>count</th>\n",
       "      <td>572.000000</td>\n",
       "      <td>572.000000</td>\n",
       "      <td>572.000000</td>\n",
       "    </tr>\n",
       "    <tr>\n",
       "      <th>mean</th>\n",
       "      <td>17.520616</td>\n",
       "      <td>3.333803</td>\n",
       "      <td>189.296908</td>\n",
       "    </tr>\n",
       "    <tr>\n",
       "      <th>std</th>\n",
       "      <td>9.290933</td>\n",
       "      <td>2.238378</td>\n",
       "      <td>89.871581</td>\n",
       "    </tr>\n",
       "    <tr>\n",
       "      <th>min</th>\n",
       "      <td>0.109106</td>\n",
       "      <td>0.000031</td>\n",
       "      <td>33.509810</td>\n",
       "    </tr>\n",
       "    <tr>\n",
       "      <th>25%</th>\n",
       "      <td>10.699556</td>\n",
       "      <td>1.585549</td>\n",
       "      <td>118.718722</td>\n",
       "    </tr>\n",
       "    <tr>\n",
       "      <th>50%</th>\n",
       "      <td>17.149517</td>\n",
       "      <td>3.150111</td>\n",
       "      <td>184.005362</td>\n",
       "    </tr>\n",
       "    <tr>\n",
       "      <th>75%</th>\n",
       "      <td>24.606396</td>\n",
       "      <td>4.730408</td>\n",
       "      <td>264.500118</td>\n",
       "    </tr>\n",
       "    <tr>\n",
       "      <th>max</th>\n",
       "      <td>42.271579</td>\n",
       "      <td>11.403625</td>\n",
       "      <td>357.788195</td>\n",
       "    </tr>\n",
       "  </tbody>\n",
       "</table>\n",
       "</div>"
      ],
      "text/plain": [
       "            Radio  Social Media       Sales\n",
       "count  572.000000    572.000000  572.000000\n",
       "mean    17.520616      3.333803  189.296908\n",
       "std      9.290933      2.238378   89.871581\n",
       "min      0.109106      0.000031   33.509810\n",
       "25%     10.699556      1.585549  118.718722\n",
       "50%     17.149517      3.150111  184.005362\n",
       "75%     24.606396      4.730408  264.500118\n",
       "max     42.271579     11.403625  357.788195"
      ]
     },
     "execution_count": 7,
     "metadata": {},
     "output_type": "execute_result"
    }
   ],
   "source": [
    "df.describe()"
   ]
  },
  {
   "cell_type": "code",
   "execution_count": 7,
   "id": "468e0e5d",
   "metadata": {},
   "outputs": [
    {
     "data": {
      "text/html": [
       "<div>\n",
       "<style scoped>\n",
       "    .dataframe tbody tr th:only-of-type {\n",
       "        vertical-align: middle;\n",
       "    }\n",
       "\n",
       "    .dataframe tbody tr th {\n",
       "        vertical-align: top;\n",
       "    }\n",
       "\n",
       "    .dataframe thead th {\n",
       "        text-align: right;\n",
       "    }\n",
       "</style>\n",
       "<table border=\"1\" class=\"dataframe\">\n",
       "  <thead>\n",
       "    <tr style=\"text-align: right;\">\n",
       "      <th></th>\n",
       "      <th>TV</th>\n",
       "      <th>Influencer</th>\n",
       "    </tr>\n",
       "  </thead>\n",
       "  <tbody>\n",
       "    <tr>\n",
       "      <th>count</th>\n",
       "      <td>572</td>\n",
       "      <td>572</td>\n",
       "    </tr>\n",
       "    <tr>\n",
       "      <th>unique</th>\n",
       "      <td>3</td>\n",
       "      <td>4</td>\n",
       "    </tr>\n",
       "    <tr>\n",
       "      <th>top</th>\n",
       "      <td>Medium</td>\n",
       "      <td>Nano</td>\n",
       "    </tr>\n",
       "    <tr>\n",
       "      <th>freq</th>\n",
       "      <td>205</td>\n",
       "      <td>157</td>\n",
       "    </tr>\n",
       "  </tbody>\n",
       "</table>\n",
       "</div>"
      ],
      "text/plain": [
       "            TV Influencer\n",
       "count      572        572\n",
       "unique       3          4\n",
       "top     Medium       Nano\n",
       "freq       205        157"
      ]
     },
     "execution_count": 7,
     "metadata": {},
     "output_type": "execute_result"
    }
   ],
   "source": [
    "df.describe(include = ['O'])"
   ]
  },
  {
   "cell_type": "code",
   "execution_count": 25,
   "id": "26e75077",
   "metadata": {},
   "outputs": [
    {
     "data": {
      "text/plain": [
       "<Axes: xlabel='TV', ylabel='Sales'>"
      ]
     },
     "execution_count": 25,
     "metadata": {},
     "output_type": "execute_result"
    },
    {
     "data": {
      "image/png": "[encoded data removed]",
      "text/plain": [
       "<Figure size 640x480 with 1 Axes>"
      ]
     },
     "metadata": {},
     "output_type": "display_data"
    }
   ],
   "source": [
    "sns.boxplot(x = \"TV\", y = \"Sales\", data = df, order=[\"Low\", \"Medium\", \"High\"])"
   ]
  },
  {
   "cell_type": "code",
   "execution_count": 5,
   "id": "70847ad3",
   "metadata": {},
   "outputs": [
    {
     "data": {
      "text/plain": [
       "<Axes: xlabel='Influencer', ylabel='Sales'>"
      ]
     },
     "execution_count": 5,
     "metadata": {},
     "output_type": "execute_result"
    },
    {
     "data": {
      "image/png": "[encoded data removed]",
      "text/plain": [
       "<Figure size 640x480 with 1 Axes>"
      ]
     },
     "metadata": {},
     "output_type": "display_data"
    }
   ],
   "source": [
    "sns.boxplot(x = \"Influencer\", y = \"Sales\", data = df)"
   ]
  },
  {
   "cell_type": "code",
   "execution_count": 9,
   "id": "9e4b75c8",
   "metadata": {},
   "outputs": [],
   "source": [
    "df[\"Radio_grouped\"] = pd.qcut(df[\"Radio\"], 4)"
   ]
  },
  {
   "cell_type": "code",
   "execution_count": 11,
   "id": "4833df00",
   "metadata": {},
   "outputs": [
    {
     "data": {
      "text/html": [
       "<div>\n",
       "<style scoped>\n",
       "    .dataframe tbody tr th:only-of-type {\n",
       "        vertical-align: middle;\n",
       "    }\n",
       "\n",
       "    .dataframe tbody tr th {\n",
       "        vertical-align: top;\n",
       "    }\n",
       "\n",
       "    .dataframe thead th {\n",
       "        text-align: right;\n",
       "    }\n",
       "</style>\n",
       "<table border=\"1\" class=\"dataframe\">\n",
       "  <thead>\n",
       "    <tr style=\"text-align: right;\">\n",
       "      <th></th>\n",
       "      <th>Radio_grouped</th>\n",
       "      <th>Sales</th>\n",
       "    </tr>\n",
       "  </thead>\n",
       "  <tbody>\n",
       "    <tr>\n",
       "      <th>0</th>\n",
       "      <td>(0.108, 10.7]</td>\n",
       "      <td>90.588629</td>\n",
       "    </tr>\n",
       "    <tr>\n",
       "      <th>1</th>\n",
       "      <td>(10.7, 17.15]</td>\n",
       "      <td>154.235406</td>\n",
       "    </tr>\n",
       "    <tr>\n",
       "      <th>2</th>\n",
       "      <td>(17.15, 24.606]</td>\n",
       "      <td>217.089462</td>\n",
       "    </tr>\n",
       "    <tr>\n",
       "      <th>3</th>\n",
       "      <td>(24.606, 42.272]</td>\n",
       "      <td>295.274134</td>\n",
       "    </tr>\n",
       "  </tbody>\n",
       "</table>\n",
       "</div>"
      ],
      "text/plain": [
       "      Radio_grouped       Sales\n",
       "0     (0.108, 10.7]   90.588629\n",
       "1     (10.7, 17.15]  154.235406\n",
       "2   (17.15, 24.606]  217.089462\n",
       "3  (24.606, 42.272]  295.274134"
      ]
     },
     "execution_count": 11,
     "metadata": {},
     "output_type": "execute_result"
    }
   ],
   "source": [
    "df.groupby([\"Radio_grouped\"], as_index = False)[\"Sales\"].mean()"
   ]
  },
  {
   "cell_type": "code",
   "execution_count": 14,
   "id": "b922943b",
   "metadata": {},
   "outputs": [],
   "source": [
    "def change_func(x):\n",
    "    if x <= 10.7:\n",
    "        return \"Low\"\n",
    "    elif 10.7 < x <= 17.15:\n",
    "        return \"Medium\"\n",
    "    elif 17.15 < x <= 24.606:\n",
    "        return \"High\"\n",
    "    else:\n",
    "        return \"Premium\"\n",
    "\n",
    "\n",
    "df[\"Radio_\"]= df[\"Radio\"].apply(lambda x: change_func(x))"
   ]
  },
  {
   "cell_type": "code",
   "execution_count": 24,
   "id": "d8cc0697",
   "metadata": {},
   "outputs": [
    {
     "data": {
      "text/plain": [
       "<Axes: xlabel='Radio_', ylabel='Sales'>"
      ]
     },
     "execution_count": 24,
     "metadata": {},
     "output_type": "execute_result"
    },
    {
     "data": {
      "image/png": "[encoded data removed]",
      "text/plain": [
       "<Figure size 640x480 with 1 Axes>"
      ]
     },
     "metadata": {},
     "output_type": "display_data"
    }
   ],
   "source": [
    "sns.boxplot(x = \"Radio_\", y = \"Sales\", data = df, order=[\"Low\", \"Medium\", \"High\",\"Premium\"])"
   ]
  },
  {
   "cell_type": "code",
   "execution_count": null,
   "id": "0be751a4",
   "metadata": {},
   "outputs": [],
   "source": [
    "df[\"Social_Media_grouped\"] = pd.qcut(df[\"Social Media\"], 4)"
   ]
  },
  {
   "cell_type": "code",
   "execution_count": 12,
   "id": "eb08e98d",
   "metadata": {},
   "outputs": [
    {
     "data": {
      "text/html": [
       "<div>\n",
       "<style scoped>\n",
       "    .dataframe tbody tr th:only-of-type {\n",
       "        vertical-align: middle;\n",
       "    }\n",
       "\n",
       "    .dataframe tbody tr th {\n",
       "        vertical-align: top;\n",
       "    }\n",
       "\n",
       "    .dataframe thead th {\n",
       "        text-align: right;\n",
       "    }\n",
       "</style>\n",
       "<table border=\"1\" class=\"dataframe\">\n",
       "  <thead>\n",
       "    <tr style=\"text-align: right;\">\n",
       "      <th></th>\n",
       "      <th>Social_Media_grouped</th>\n",
       "      <th>Sales</th>\n",
       "    </tr>\n",
       "  </thead>\n",
       "  <tbody>\n",
       "    <tr>\n",
       "      <th>0</th>\n",
       "      <td>(-0.0009687000000000001, 1.586]</td>\n",
       "      <td>128.505995</td>\n",
       "    </tr>\n",
       "    <tr>\n",
       "      <th>1</th>\n",
       "      <td>(1.586, 3.15]</td>\n",
       "      <td>161.637842</td>\n",
       "    </tr>\n",
       "    <tr>\n",
       "      <th>2</th>\n",
       "      <td>(3.15, 4.73]</td>\n",
       "      <td>215.117666</td>\n",
       "    </tr>\n",
       "    <tr>\n",
       "      <th>3</th>\n",
       "      <td>(4.73, 11.404]</td>\n",
       "      <td>251.926129</td>\n",
       "    </tr>\n",
       "  </tbody>\n",
       "</table>\n",
       "</div>"
      ],
      "text/plain": [
       "              Social_Media_grouped       Sales\n",
       "0  (-0.0009687000000000001, 1.586]  128.505995\n",
       "1                    (1.586, 3.15]  161.637842\n",
       "2                     (3.15, 4.73]  215.117666\n",
       "3                   (4.73, 11.404]  251.926129"
      ]
     },
     "execution_count": 12,
     "metadata": {},
     "output_type": "execute_result"
    }
   ],
   "source": [
    "df.groupby([\"Social_Media_grouped\"], as_index = False)[\"Sales\"].mean()"
   ]
  },
  {
   "cell_type": "code",
   "execution_count": 16,
   "id": "b9bbd026",
   "metadata": {},
   "outputs": [],
   "source": [
    "def change_func(x):\n",
    "    if x <= 1.586:\n",
    "        return \"Low\"\n",
    "    elif 1.586 < x <= 3.15:\n",
    "        return \"Medium\"\n",
    "    elif 3.15 < x <= 4.73:\n",
    "        return \"High\"\n",
    "    else:\n",
    "        return \"Premium\"\n",
    "\n",
    "\n",
    "df[\"Social_Media\"]= df[\"Social Media\"].apply(lambda x: change_func(x))"
   ]
  },
  {
   "cell_type": "code",
   "execution_count": 23,
   "id": "e54c1c3c",
   "metadata": {},
   "outputs": [
    {
     "data": {
      "text/plain": [
       "<Axes: xlabel='Social_Media', ylabel='Sales'>"
      ]
     },
     "execution_count": 23,
     "metadata": {},
     "output_type": "execute_result"
    },
    {
     "data": {
      "image/png": "[encoded data removed]",
      "text/plain": [
       "<Figure size 640x480 with 1 Axes>"
      ]
     },
     "metadata": {},
     "output_type": "display_data"
    }
   ],
   "source": [
    "sns.boxplot(x = \"Social_Media\", y = \"Sales\", data = df, order=[\"Low\", \"Medium\", \"High\",\"Premium\"])"
   ]
  },
  {
   "cell_type": "code",
   "execution_count": 26,
   "id": "fe212530",
   "metadata": {},
   "outputs": [],
   "source": [
    "df = df.dropna(axis=0)"
   ]
  },
  {
   "cell_type": "code",
   "execution_count": 27,
   "id": "2a774b4a",
   "metadata": {},
   "outputs": [
    {
     "data": {
      "text/plain": [
       "TV              0\n",
       "Radio           0\n",
       "Social Media    0\n",
       "Influencer      0\n",
       "Sales           0\n",
       "dtype: int64"
      ]
     },
     "execution_count": 27,
     "metadata": {},
     "output_type": "execute_result"
    }
   ],
   "source": [
    "df.isnull().sum(axis=0)"
   ]
  },
  {
   "cell_type": "code",
   "execution_count": 18,
   "id": "9ef62f86",
   "metadata": {},
   "outputs": [],
   "source": [
    "\n",
    "ols_formula = 'Sales ~ C(TV) + C(Influencer) + C(Radio_) + C(Social_Media)'\n",
    "\n",
    "OLS = ols(formula = ols_formula, data = df)\n",
    "\n",
    "model = OLS.fit()\n",
    "\n",
    "model_results = model.summary()\n"
   ]
  },
  {
   "cell_type": "code",
   "execution_count": 19,
   "id": "989808b6",
   "metadata": {},
   "outputs": [
    {
     "data": {
      "text/html": [
       "<table class=\"simpletable\">\n",
       "<caption>OLS Regression Results</caption>\n",
       "<tr>\n",
       "  <th>Dep. Variable:</th>          <td>Sales</td>      <th>  R-squared:         </th> <td>   0.896</td> \n",
       "</tr>\n",
       "<tr>\n",
       "  <th>Model:</th>                   <td>OLS</td>       <th>  Adj. R-squared:    </th> <td>   0.894</td> \n",
       "</tr>\n",
       "<tr>\n",
       "  <th>Method:</th>             <td>Least Squares</td>  <th>  F-statistic:       </th> <td>   438.2</td> \n",
       "</tr>\n",
       "<tr>\n",
       "  <th>Date:</th>             <td>Wed, 22 Nov 2023</td> <th>  Prob (F-statistic):</th> <td>9.10e-267</td>\n",
       "</tr>\n",
       "<tr>\n",
       "  <th>Time:</th>                 <td>06:41:13</td>     <th>  Log-Likelihood:    </th> <td> -2737.1</td> \n",
       "</tr>\n",
       "<tr>\n",
       "  <th>No. Observations:</th>      <td>   572</td>      <th>  AIC:               </th> <td>   5498.</td> \n",
       "</tr>\n",
       "<tr>\n",
       "  <th>Df Residuals:</th>          <td>   560</td>      <th>  BIC:               </th> <td>   5550.</td> \n",
       "</tr>\n",
       "<tr>\n",
       "  <th>Df Model:</th>              <td>    11</td>      <th>                     </th>     <td> </td>    \n",
       "</tr>\n",
       "<tr>\n",
       "  <th>Covariance Type:</th>      <td>nonrobust</td>    <th>                     </th>     <td> </td>    \n",
       "</tr>\n",
       "</table>\n",
       "<table class=\"simpletable\">\n",
       "<tr>\n",
       "               <td></td>                 <th>coef</th>     <th>std err</th>      <th>t</th>      <th>P>|t|</th>  <th>[0.025</th>    <th>0.975]</th>  \n",
       "</tr>\n",
       "<tr>\n",
       "  <th>Intercept</th>                  <td>  282.4208</td> <td>    4.747</td> <td>   59.491</td> <td> 0.000</td> <td>  273.096</td> <td>  291.745</td>\n",
       "</tr>\n",
       "<tr>\n",
       "  <th>C(TV)[T.Low]</th>               <td> -163.3168</td> <td>    5.284</td> <td>  -30.905</td> <td> 0.000</td> <td> -173.697</td> <td> -152.937</td>\n",
       "</tr>\n",
       "<tr>\n",
       "  <th>C(TV)[T.Medium]</th>            <td>  -81.6959</td> <td>    4.140</td> <td>  -19.731</td> <td> 0.000</td> <td>  -89.828</td> <td>  -73.563</td>\n",
       "</tr>\n",
       "<tr>\n",
       "  <th>C(Influencer)[T.Mega]</th>      <td>    1.6893</td> <td>    3.649</td> <td>    0.463</td> <td> 0.644</td> <td>   -5.479</td> <td>    8.857</td>\n",
       "</tr>\n",
       "<tr>\n",
       "  <th>C(Influencer)[T.Micro]</th>     <td>    3.1817</td> <td>    3.541</td> <td>    0.899</td> <td> 0.369</td> <td>   -3.773</td> <td>   10.137</td>\n",
       "</tr>\n",
       "<tr>\n",
       "  <th>C(Influencer)[T.Nano]</th>      <td>    1.1573</td> <td>    3.514</td> <td>    0.329</td> <td> 0.742</td> <td>   -5.745</td> <td>    8.060</td>\n",
       "</tr>\n",
       "<tr>\n",
       "  <th>C(Radio_)[T.Low]</th>           <td>  -38.1553</td> <td>    4.773</td> <td>   -7.993</td> <td> 0.000</td> <td>  -47.531</td> <td>  -28.779</td>\n",
       "</tr>\n",
       "<tr>\n",
       "  <th>C(Radio_)[T.Medium]</th>        <td>  -11.8842</td> <td>    3.889</td> <td>   -3.056</td> <td> 0.002</td> <td>  -19.523</td> <td>   -4.245</td>\n",
       "</tr>\n",
       "<tr>\n",
       "  <th>C(Radio_)[T.Premium]</th>       <td>   24.4246</td> <td>    4.317</td> <td>    5.658</td> <td> 0.000</td> <td>   15.945</td> <td>   32.904</td>\n",
       "</tr>\n",
       "<tr>\n",
       "  <th>C(Social_Media)[T.Low]</th>     <td>   -3.0343</td> <td>    3.846</td> <td>   -0.789</td> <td> 0.430</td> <td>  -10.589</td> <td>    4.520</td>\n",
       "</tr>\n",
       "<tr>\n",
       "  <th>C(Social_Media)[T.Medium]</th>  <td>   -3.1675</td> <td>    3.586</td> <td>   -0.883</td> <td> 0.377</td> <td>  -10.212</td> <td>    3.877</td>\n",
       "</tr>\n",
       "<tr>\n",
       "  <th>C(Social_Media)[T.Premium]</th> <td>   -0.2540</td> <td>    3.638</td> <td>   -0.070</td> <td> 0.944</td> <td>   -7.400</td> <td>    6.892</td>\n",
       "</tr>\n",
       "</table>\n",
       "<table class=\"simpletable\">\n",
       "<tr>\n",
       "  <th>Omnibus:</th>       <td>77.992</td> <th>  Durbin-Watson:     </th> <td>   1.953</td>\n",
       "</tr>\n",
       "<tr>\n",
       "  <th>Prob(Omnibus):</th> <td> 0.000</td> <th>  Jarque-Bera (JB):  </th> <td>  20.680</td>\n",
       "</tr>\n",
       "<tr>\n",
       "  <th>Skew:</th>          <td> 0.084</td> <th>  Prob(JB):          </th> <td>3.23e-05</td>\n",
       "</tr>\n",
       "<tr>\n",
       "  <th>Kurtosis:</th>      <td> 2.084</td> <th>  Cond. No.          </th> <td>    8.67</td>\n",
       "</tr>\n",
       "</table><br/><br/>Notes:<br/>[1] Standard Errors assume that the covariance matrix of the errors is correctly specified."
      ],
      "text/plain": [
       "<class 'statsmodels.iolib.summary.Summary'>\n",
       "\"\"\"\n",
       "                            OLS Regression Results                            \n",
       "==============================================================================\n",
       "Dep. Variable:                  Sales   R-squared:                       0.896\n",
       "Model:                            OLS   Adj. R-squared:                  0.894\n",
       "Method:                 Least Squares   F-statistic:                     438.2\n",
       "Date:                Wed, 22 Nov 2023   Prob (F-statistic):          9.10e-267\n",
       "Time:                        06:41:13   Log-Likelihood:                -2737.1\n",
       "No. Observations:                 572   AIC:                             5498.\n",
       "Df Residuals:                     560   BIC:                             5550.\n",
       "Df Model:                          11                                         \n",
       "Covariance Type:            nonrobust                                         \n",
       "==============================================================================================\n",
       "                                 coef    std err          t      P>|t|      [0.025      0.975]\n",
       "----------------------------------------------------------------------------------------------\n",
       "Intercept                    282.4208      4.747     59.491      0.000     273.096     291.745\n",
       "C(TV)[T.Low]                -163.3168      5.284    -30.905      0.000    -173.697    -152.937\n",
       "C(TV)[T.Medium]              -81.6959      4.140    -19.731      0.000     -89.828     -73.563\n",
       "C(Influencer)[T.Mega]          1.6893      3.649      0.463      0.644      -5.479       8.857\n",
       "C(Influencer)[T.Micro]         3.1817      3.541      0.899      0.369      -3.773      10.137\n",
       "C(Influencer)[T.Nano]          1.1573      3.514      0.329      0.742      -5.745       8.060\n",
       "C(Radio_)[T.Low]             -38.1553      4.773     -7.993      0.000     -47.531     -28.779\n",
       "C(Radio_)[T.Medium]          -11.8842      3.889     -3.056      0.002     -19.523      -4.245\n",
       "C(Radio_)[T.Premium]          24.4246      4.317      5.658      0.000      15.945      32.904\n",
       "C(Social_Media)[T.Low]        -3.0343      3.846     -0.789      0.430     -10.589       4.520\n",
       "C(Social_Media)[T.Medium]     -3.1675      3.586     -0.883      0.377     -10.212       3.877\n",
       "C(Social_Media)[T.Premium]    -0.2540      3.638     -0.070      0.944      -7.400       6.892\n",
       "==============================================================================\n",
       "Omnibus:                       77.992   Durbin-Watson:                   1.953\n",
       "Prob(Omnibus):                  0.000   Jarque-Bera (JB):               20.680\n",
       "Skew:                           0.084   Prob(JB):                     3.23e-05\n",
       "Kurtosis:                       2.084   Cond. No.                         8.67\n",
       "==============================================================================\n",
       "\n",
       "Notes:\n",
       "[1] Standard Errors assume that the covariance matrix of the errors is correctly specified.\n",
       "\"\"\""
      ]
     },
     "execution_count": 19,
     "metadata": {},
     "output_type": "execute_result"
    }
   ],
   "source": [
    "model_results"
   ]
  },
  {
   "cell_type": "code",
   "execution_count": 20,
   "id": "b3dec7a4",
   "metadata": {},
   "outputs": [
    {
     "data": {
      "text/html": [
       "<div>\n",
       "<style scoped>\n",
       "    .dataframe tbody tr th:only-of-type {\n",
       "        vertical-align: middle;\n",
       "    }\n",
       "\n",
       "    .dataframe tbody tr th {\n",
       "        vertical-align: top;\n",
       "    }\n",
       "\n",
       "    .dataframe thead th {\n",
       "        text-align: right;\n",
       "    }\n",
       "</style>\n",
       "<table border=\"1\" class=\"dataframe\">\n",
       "  <thead>\n",
       "    <tr style=\"text-align: right;\">\n",
       "      <th></th>\n",
       "      <th>sum_sq</th>\n",
       "      <th>df</th>\n",
       "      <th>F</th>\n",
       "      <th>PR(&gt;F)</th>\n",
       "    </tr>\n",
       "  </thead>\n",
       "  <tbody>\n",
       "    <tr>\n",
       "      <th>C(TV)</th>\n",
       "      <td>829843.791649</td>\n",
       "      <td>2.0</td>\n",
       "      <td>484.077246</td>\n",
       "      <td>8.429739e-123</td>\n",
       "    </tr>\n",
       "    <tr>\n",
       "      <th>C(Influencer)</th>\n",
       "      <td>725.069378</td>\n",
       "      <td>3.0</td>\n",
       "      <td>0.281972</td>\n",
       "      <td>8.384278e-01</td>\n",
       "    </tr>\n",
       "    <tr>\n",
       "      <th>C(Radio_)</th>\n",
       "      <td>91590.500983</td>\n",
       "      <td>3.0</td>\n",
       "      <td>35.618653</td>\n",
       "      <td>4.432721e-21</td>\n",
       "    </tr>\n",
       "    <tr>\n",
       "      <th>C(Social_Media)</th>\n",
       "      <td>918.810964</td>\n",
       "      <td>3.0</td>\n",
       "      <td>0.357317</td>\n",
       "      <td>7.838662e-01</td>\n",
       "    </tr>\n",
       "    <tr>\n",
       "      <th>Residual</th>\n",
       "      <td>479998.313597</td>\n",
       "      <td>560.0</td>\n",
       "      <td>NaN</td>\n",
       "      <td>NaN</td>\n",
       "    </tr>\n",
       "  </tbody>\n",
       "</table>\n",
       "</div>"
      ],
      "text/plain": [
       "                        sum_sq     df           F         PR(>F)\n",
       "C(TV)            829843.791649    2.0  484.077246  8.429739e-123\n",
       "C(Influencer)       725.069378    3.0    0.281972   8.384278e-01\n",
       "C(Radio_)         91590.500983    3.0   35.618653   4.432721e-21\n",
       "C(Social_Media)     918.810964    3.0    0.357317   7.838662e-01\n",
       "Residual         479998.313597  560.0         NaN            NaN"
      ]
     },
     "execution_count": 20,
     "metadata": {},
     "output_type": "execute_result"
    }
   ],
   "source": [
    "sm.stats.anova_lm(model, typ=2)"
   ]
  },
  {
   "cell_type": "code",
   "execution_count": 36,
   "id": "22d9f893",
   "metadata": {},
   "outputs": [
    {
     "data": {
      "text/html": [
       "<table class=\"simpletable\">\n",
       "<caption>Multiple Comparison of Means - Tukey HSD, FWER=0.05</caption>\n",
       "<tr>\n",
       "  <th>group1</th> <th>group2</th> <th>meandiff</th>  <th>p-adj</th>   <th>lower</th>     <th>upper</th>   <th>reject</th>\n",
       "</tr>\n",
       "<tr>\n",
       "   <td>High</td>    <td>Low</td>  <td>-209.8691</td>  <td>0.0</td>  <td>-217.8438</td> <td>-201.8944</td>  <td>True</td> \n",
       "</tr>\n",
       "<tr>\n",
       "   <td>High</td>  <td>Medium</td> <td>-105.4952</td>  <td>0.0</td>  <td>-113.4346</td> <td>-97.5557</td>   <td>True</td> \n",
       "</tr>\n",
       "<tr>\n",
       "    <td>Low</td>  <td>Medium</td> <td>104.3739</td>   <td>0.0</td>   <td>96.8261</td>  <td>111.9218</td>   <td>True</td> \n",
       "</tr>\n",
       "</table>"
      ],
      "text/plain": [
       "<class 'statsmodels.iolib.table.SimpleTable'>"
      ]
     },
     "execution_count": 36,
     "metadata": {},
     "output_type": "execute_result"
    }
   ],
   "source": [
    "tukey_oneway = pairwise_tukeyhsd(endog = df[\"Sales\"], groups = df[\"TV\"])\n",
    "# Display the results\n",
    "tukey_oneway.summary()\n"
   ]
  },
  {
   "cell_type": "code",
   "execution_count": 37,
   "id": "17059bbd",
   "metadata": {},
   "outputs": [
    {
     "data": {
      "text/html": [
       "<table class=\"simpletable\">\n",
       "<caption>Multiple Comparison of Means - Tukey HSD, FWER=0.05</caption>\n",
       "<tr>\n",
       "  <th>group1</th> <th>group2</th> <th>meandiff</th>  <th>p-adj</th>   <th>lower</th>   <th>upper</th>  <th>reject</th>\n",
       "</tr>\n",
       "<tr>\n",
       "   <td>Macro</td>  <td>Mega</td>   <td>12.8179</td> <td>0.6547</td> <td>-15.7438</td> <td>41.3795</td>  <td>False</td>\n",
       "</tr>\n",
       "<tr>\n",
       "   <td>Macro</td>  <td>Micro</td>  <td>6.6518</td>  <td>0.9276</td> <td>-21.2657</td> <td>34.5692</td>  <td>False</td>\n",
       "</tr>\n",
       "<tr>\n",
       "   <td>Macro</td>  <td>Nano</td>   <td>10.2044</td> <td>0.7777</td> <td>-17.4683</td> <td>37.877</td>   <td>False</td>\n",
       "</tr>\n",
       "<tr>\n",
       "   <td>Mega</td>   <td>Micro</td>  <td>-6.1661</td> <td>0.9379</td> <td>-33.5245</td> <td>21.1923</td>  <td>False</td>\n",
       "</tr>\n",
       "<tr>\n",
       "   <td>Mega</td>   <td>Nano</td>   <td>-2.6135</td> <td>0.9946</td> <td>-29.7221</td> <td>24.4951</td>  <td>False</td>\n",
       "</tr>\n",
       "<tr>\n",
       "   <td>Micro</td>  <td>Nano</td>   <td>3.5526</td>  <td>0.9857</td> <td>-22.8764</td> <td>29.9816</td>  <td>False</td>\n",
       "</tr>\n",
       "</table>"
      ],
      "text/plain": [
       "<class 'statsmodels.iolib.table.SimpleTable'>"
      ]
     },
     "execution_count": 37,
     "metadata": {},
     "output_type": "execute_result"
    }
   ],
   "source": [
    "tukey_oneway = pairwise_tukeyhsd(endog = df[\"Sales\"], groups = df[\"Influencer\"])\n",
    "# Display the results\n",
    "tukey_oneway.summary()\n"
   ]
  },
  {
   "cell_type": "code",
   "execution_count": 21,
   "id": "bd965803",
   "metadata": {},
   "outputs": [
    {
     "data": {
      "text/html": [
       "<table class=\"simpletable\">\n",
       "<caption>Multiple Comparison of Means - Tukey HSD, FWER=0.05</caption>\n",
       "<tr>\n",
       "  <th>group1</th> <th>group2</th>  <th>meandiff</th>  <th>p-adj</th>   <th>lower</th>     <th>upper</th>  <th>reject</th>\n",
       "</tr>\n",
       "<tr>\n",
       "   <td>High</td>    <td>Low</td>   <td>-126.5008</td>  <td>0.0</td>  <td>-141.2257</td> <td>-111.776</td>  <td>True</td> \n",
       "</tr>\n",
       "<tr>\n",
       "   <td>High</td>  <td>Medium</td>  <td>-62.8541</td>   <td>0.0</td>  <td>-77.5789</td>  <td>-48.1292</td>  <td>True</td> \n",
       "</tr>\n",
       "<tr>\n",
       "   <td>High</td>  <td>Premium</td>  <td>78.1847</td>   <td>0.0</td>   <td>63.4598</td>   <td>92.9095</td>  <td>True</td> \n",
       "</tr>\n",
       "<tr>\n",
       "    <td>Low</td>  <td>Medium</td>   <td>63.6468</td>   <td>0.0</td>   <td>48.9219</td>   <td>78.3716</td>  <td>True</td> \n",
       "</tr>\n",
       "<tr>\n",
       "    <td>Low</td>  <td>Premium</td> <td>204.6855</td>   <td>0.0</td>  <td>189.9606</td>  <td>219.4104</td>  <td>True</td> \n",
       "</tr>\n",
       "<tr>\n",
       "  <td>Medium</td> <td>Premium</td> <td>141.0387</td>   <td>0.0</td>  <td>126.3139</td>  <td>155.7636</td>  <td>True</td> \n",
       "</tr>\n",
       "</table>"
      ],
      "text/plain": [
       "<class 'statsmodels.iolib.table.SimpleTable'>"
      ]
     },
     "execution_count": 21,
     "metadata": {},
     "output_type": "execute_result"
    }
   ],
   "source": [
    "tukey_oneway = pairwise_tukeyhsd(endog = df[\"Sales\"], groups = df[\"Radio_\"])\n",
    "# Display the results\n",
    "tukey_oneway.summary()\n"
   ]
  },
  {
   "cell_type": "code",
   "execution_count": 22,
   "id": "7d79efea",
   "metadata": {},
   "outputs": [
    {
     "data": {
      "text/html": [
       "<table class=\"simpletable\">\n",
       "<caption>Multiple Comparison of Means - Tukey HSD, FWER=0.05</caption>\n",
       "<tr>\n",
       "  <th>group1</th> <th>group2</th>  <th>meandiff</th>  <th>p-adj</th>   <th>lower</th>     <th>upper</th>  <th>reject</th>\n",
       "</tr>\n",
       "<tr>\n",
       "   <td>High</td>    <td>Low</td>   <td>-86.6117</td>   <td>0.0</td>  <td>-109.9008</td> <td>-63.3225</td>  <td>True</td> \n",
       "</tr>\n",
       "<tr>\n",
       "   <td>High</td>  <td>Medium</td>  <td>-53.4798</td>   <td>0.0</td>   <td>-76.769</td>  <td>-30.1907</td>  <td>True</td> \n",
       "</tr>\n",
       "<tr>\n",
       "   <td>High</td>  <td>Premium</td>  <td>36.8085</td> <td>0.0003</td>  <td>13.5193</td>   <td>60.0976</td>  <td>True</td> \n",
       "</tr>\n",
       "<tr>\n",
       "    <td>Low</td>  <td>Medium</td>   <td>33.1318</td> <td>0.0015</td>  <td>9.8427</td>    <td>56.421</td>   <td>True</td> \n",
       "</tr>\n",
       "<tr>\n",
       "    <td>Low</td>  <td>Premium</td> <td>123.4201</td>   <td>0.0</td>   <td>100.131</td>  <td>146.7093</td>  <td>True</td> \n",
       "</tr>\n",
       "<tr>\n",
       "  <td>Medium</td> <td>Premium</td>  <td>90.2883</td>   <td>0.0</td>   <td>66.9991</td>  <td>113.5775</td>  <td>True</td> \n",
       "</tr>\n",
       "</table>"
      ],
      "text/plain": [
       "<class 'statsmodels.iolib.table.SimpleTable'>"
      ]
     },
     "execution_count": 22,
     "metadata": {},
     "output_type": "execute_result"
    }
   ],
   "source": [
    "tukey_oneway = pairwise_tukeyhsd(endog = df[\"Sales\"], groups = df[\"Social_Media\"])\n",
    "# Display the results\n",
    "tukey_oneway.summary()\n"
   ]
  },
  {
   "cell_type": "code",
   "execution_count": null,
   "id": "f03e106e",
   "metadata": {},
   "outputs": [],
   "source": []
  }
 ],
 "metadata": {
  "kernelspec": {
   "display_name": "Python 3 (ipykernel)",
   "language": "python",
   "name": "python3"
  },
  "language_info": {
   "codemirror_mode": {
    "name": "ipython",
    "version": 3
   },
   "file_extension": ".py",
   "mimetype": "text/x-python",
   "name": "python",
   "nbconvert_exporter": "python",
   "pygments_lexer": "ipython3",
   "version": "3.11.3"
  }
 },
 "nbformat": 4,
 "nbformat_minor": 5
}
